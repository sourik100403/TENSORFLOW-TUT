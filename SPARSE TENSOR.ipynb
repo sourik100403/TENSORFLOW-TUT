{
 "cells": [
  {
   "cell_type": "code",
   "execution_count": 1,
   "id": "7845820c",
   "metadata": {},
   "outputs": [],
   "source": [
    "import tensorflow as tf"
   ]
  },
  {
   "cell_type": "code",
   "execution_count": 3,
   "id": "7b685bd7",
   "metadata": {},
   "outputs": [
    {
     "data": {
      "text/plain": [
       "SparseTensor(indices=tf.Tensor(\n",
       "[[2 3]\n",
       " [4 5]], shape=(2, 2), dtype=int64), values=tf.Tensor([10 20], shape=(2,), dtype=int32), dense_shape=tf.Tensor([ 3 10], shape=(2,), dtype=int64))"
      ]
     },
     "execution_count": 3,
     "metadata": {},
     "output_type": "execute_result"
    }
   ],
   "source": [
    "st1=tf.SparseTensor(indices=[[2,3],[4,5]],values=[10,20],dense_shape=[3,10])\n",
    "st1"
   ]
  },
  {
   "cell_type": "markdown",
   "id": "0cc59187",
   "metadata": {},
   "source": [
    "## create parse tensor from dense"
   ]
  },
  {
   "cell_type": "code",
   "execution_count": 4,
   "id": "97f6a6e4",
   "metadata": {},
   "outputs": [],
   "source": [
    "import numpy as np"
   ]
  },
  {
   "cell_type": "code",
   "execution_count": 6,
   "id": "3553a0d3",
   "metadata": {},
   "outputs": [
    {
     "data": {
      "text/plain": [
       "array([[1, 0, 0, 0],\n",
       "       [0, 0, 0, 0],\n",
       "       [0, 0, 2, 0],\n",
       "       [0, 0, 0, 4]])"
      ]
     },
     "execution_count": 6,
     "metadata": {},
     "output_type": "execute_result"
    }
   ],
   "source": [
    "array_A=np.array([[1,0,0,0],\n",
    "                  [0,0,0,0],\n",
    "                  [0,0,2,0],\n",
    "                  [0,0,0,4],])\n",
    "array_A"
   ]
  },
  {
   "cell_type": "code",
   "execution_count": 9,
   "id": "9f5a2a4f",
   "metadata": {},
   "outputs": [
    {
     "data": {
      "text/plain": [
       "SparseTensor(indices=tf.Tensor(\n",
       "[[0 0]\n",
       " [2 2]\n",
       " [3 3]], shape=(3, 2), dtype=int64), values=tf.Tensor([1 2 4], shape=(3,), dtype=int32), dense_shape=tf.Tensor([4 4], shape=(2,), dtype=int64))"
      ]
     },
     "execution_count": 9,
     "metadata": {},
     "output_type": "execute_result"
    }
   ],
   "source": [
    "a=tf.sparse.from_dense(array_A)\n",
    "a"
   ]
  },
  {
   "cell_type": "markdown",
   "id": "67729d4b",
   "metadata": {},
   "source": [
    "## exact a value of indices,values, shape"
   ]
  },
  {
   "cell_type": "code",
   "execution_count": 13,
   "id": "52360af6",
   "metadata": {},
   "outputs": [
    {
     "data": {
      "text/plain": [
       "[1, 2, 4]"
      ]
     },
     "execution_count": 13,
     "metadata": {},
     "output_type": "execute_result"
    }
   ],
   "source": [
    "a.values.numpy().tolist()"
   ]
  },
  {
   "cell_type": "code",
   "execution_count": 16,
   "id": "4fc8f9e8",
   "metadata": {},
   "outputs": [
    {
     "data": {
      "text/plain": [
       "[[0, 0], [2, 2], [3, 3]]"
      ]
     },
     "execution_count": 16,
     "metadata": {},
     "output_type": "execute_result"
    }
   ],
   "source": [
    "a.indices.numpy().tolist()"
   ]
  },
  {
   "cell_type": "code",
   "execution_count": 19,
   "id": "817bac1b",
   "metadata": {},
   "outputs": [
    {
     "data": {
      "text/plain": [
       "[4, 4]"
      ]
     },
     "execution_count": 19,
     "metadata": {},
     "output_type": "execute_result"
    }
   ],
   "source": [
    "a.dense_shape.numpy().tolist()"
   ]
  },
  {
   "cell_type": "markdown",
   "id": "7778516a",
   "metadata": {},
   "source": [
    "## sparse tensor to dense"
   ]
  },
  {
   "cell_type": "code",
   "execution_count": 20,
   "id": "0ddf0c2d",
   "metadata": {},
   "outputs": [
    {
     "data": {
      "text/plain": [
       "<tf.Tensor: shape=(4, 4), dtype=int32, numpy=\n",
       "array([[1, 0, 0, 0],\n",
       "       [0, 0, 0, 0],\n",
       "       [0, 0, 2, 0],\n",
       "       [0, 0, 0, 4]])>"
      ]
     },
     "execution_count": 20,
     "metadata": {},
     "output_type": "execute_result"
    }
   ],
   "source": [
    "dt_sparse=tf.sparse.to_dense(a)\n",
    "dt_sparse"
   ]
  },
  {
   "cell_type": "code",
   "execution_count": 23,
   "id": "2780098d",
   "metadata": {},
   "outputs": [
    {
     "data": {
      "text/plain": [
       "array([[1, 0, 0, 0],\n",
       "       [0, 0, 0, 0],\n",
       "       [0, 0, 2, 0],\n",
       "       [0, 0, 0, 4]])"
      ]
     },
     "execution_count": 23,
     "metadata": {},
     "output_type": "execute_result"
    }
   ],
   "source": [
    "dt_sparse.numpy()"
   ]
  },
  {
   "cell_type": "markdown",
   "id": "d4b588c5",
   "metadata": {},
   "source": [
    "## mathametical operation on sparse tensor"
   ]
  },
  {
   "cell_type": "code",
   "execution_count": 25,
   "id": "7abf994a",
   "metadata": {},
   "outputs": [
    {
     "data": {
      "text/plain": [
       "SparseTensor(indices=tf.Tensor(\n",
       "[[0 0]\n",
       " [2 2]\n",
       " [3 3]], shape=(3, 2), dtype=int64), values=tf.Tensor([2 4 8], shape=(3,), dtype=int32), dense_shape=tf.Tensor([4 4], shape=(2,), dtype=int64))"
      ]
     },
     "execution_count": 25,
     "metadata": {},
     "output_type": "execute_result"
    }
   ],
   "source": [
    "p_add=tf.sparse.add(a,a)\n",
    "p_add"
   ]
  },
  {
   "cell_type": "code",
   "execution_count": 29,
   "id": "9f8bb120",
   "metadata": {},
   "outputs": [
    {
     "data": {
      "text/plain": [
       "array([[2, 0, 0, 0],\n",
       "       [0, 0, 0, 0],\n",
       "       [0, 0, 4, 0],\n",
       "       [0, 0, 0, 8]])"
      ]
     },
     "execution_count": 29,
     "metadata": {},
     "output_type": "execute_result"
    }
   ],
   "source": [
    "tf.sparse.to_dense(p_add).numpy()"
   ]
  },
  {
   "cell_type": "code",
   "execution_count": null,
   "id": "c46147cf",
   "metadata": {},
   "outputs": [],
   "source": []
  }
 ],
 "metadata": {
  "kernelspec": {
   "display_name": "Python 3 (ipykernel)",
   "language": "python",
   "name": "python3"
  },
  "language_info": {
   "codemirror_mode": {
    "name": "ipython",
    "version": 3
   },
   "file_extension": ".py",
   "mimetype": "text/x-python",
   "name": "python",
   "nbconvert_exporter": "python",
   "pygments_lexer": "ipython3",
   "version": "3.10.5"
  }
 },
 "nbformat": 4,
 "nbformat_minor": 5
}

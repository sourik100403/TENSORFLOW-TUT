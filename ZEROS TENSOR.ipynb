{
 "cells": [
  {
   "cell_type": "code",
   "execution_count": 1,
   "id": "4b4d4c91",
   "metadata": {},
   "outputs": [],
   "source": [
    "import tensorflow as tf"
   ]
  },
  {
   "cell_type": "code",
   "execution_count": 2,
   "id": "1256b800",
   "metadata": {},
   "outputs": [
    {
     "data": {
      "text/plain": [
       "<tf.Tensor: shape=(2, 2), dtype=float32, numpy=\n",
       "array([[0., 0.],\n",
       "       [0., 0.]], dtype=float32)>"
      ]
     },
     "execution_count": 2,
     "metadata": {},
     "output_type": "execute_result"
    }
   ],
   "source": [
    "zero=tf.zeros((2,2),tf.float32)\n",
    "zero"
   ]
  },
  {
   "cell_type": "markdown",
   "id": "633090af",
   "metadata": {},
   "source": [
    "## 3d"
   ]
  },
  {
   "cell_type": "code",
   "execution_count": 3,
   "id": "c533ef3e",
   "metadata": {},
   "outputs": [
    {
     "data": {
      "text/plain": [
       "<tf.Tensor: shape=(2, 2, 4), dtype=float32, numpy=\n",
       "array([[[0., 0., 0., 0.],\n",
       "        [0., 0., 0., 0.]],\n",
       "\n",
       "       [[0., 0., 0., 0.],\n",
       "        [0., 0., 0., 0.]]], dtype=float32)>"
      ]
     },
     "execution_count": 3,
     "metadata": {},
     "output_type": "execute_result"
    }
   ],
   "source": [
    "zero3D=tf.zeros((2,2,4),tf.float32)\n",
    "zero3D"
   ]
  },
  {
   "cell_type": "code",
   "execution_count": 4,
   "id": "af9c7225",
   "metadata": {},
   "outputs": [
    {
     "data": {
      "text/plain": [
       "TensorShape([2, 2, 4])"
      ]
     },
     "execution_count": 4,
     "metadata": {},
     "output_type": "execute_result"
    }
   ],
   "source": [
    "zero3D.shape"
   ]
  },
  {
   "cell_type": "code",
   "execution_count": 5,
   "id": "a8910e67",
   "metadata": {},
   "outputs": [
    {
     "data": {
      "text/plain": [
       "<function ndarray.tolist>"
      ]
     },
     "execution_count": 5,
     "metadata": {},
     "output_type": "execute_result"
    }
   ],
   "source": [
    "zero3D.numpy().tolist"
   ]
  },
  {
   "cell_type": "code",
   "execution_count": 6,
   "id": "7db1f092",
   "metadata": {},
   "outputs": [
    {
     "data": {
      "text/plain": [
       "<tf.Tensor: shape=(2, 3), dtype=int32, numpy=\n",
       "array([[1, 2, 3],\n",
       "       [4, 5, 6]])>"
      ]
     },
     "execution_count": 6,
     "metadata": {},
     "output_type": "execute_result"
    }
   ],
   "source": [
    "con=tf.constant([[1,2,3],[4,5,6]])\n",
    "con"
   ]
  },
  {
   "cell_type": "code",
   "execution_count": 7,
   "id": "eb2f638e",
   "metadata": {},
   "outputs": [
    {
     "data": {
      "text/plain": [
       "<tf.Tensor: shape=(2, 3), dtype=int32, numpy=\n",
       "array([[0, 0, 0],\n",
       "       [0, 0, 0]])>"
      ]
     },
     "execution_count": 7,
     "metadata": {},
     "output_type": "execute_result"
    }
   ],
   "source": [
    "zeros_con=tf.zeros_like(con,tf.int32)\n",
    "zeros_con"
   ]
  },
  {
   "cell_type": "code",
   "execution_count": 8,
   "id": "0aa39cf6",
   "metadata": {},
   "outputs": [
    {
     "data": {
      "text/plain": [
       "<tf.Variable 'Variable:0' shape=(3, 3) dtype=int32, numpy=\n",
       "array([[1, 2, 3],\n",
       "       [4, 5, 6],\n",
       "       [7, 8, 9]])>"
      ]
     },
     "execution_count": 8,
     "metadata": {},
     "output_type": "execute_result"
    }
   ],
   "source": [
    "var=tf.Variable([[1,2,3],[4,5,6],[7,8,9]])\n",
    "var"
   ]
  },
  {
   "cell_type": "markdown",
   "id": "ac6a598a",
   "metadata": {},
   "source": []
  },
  {
   "cell_type": "code",
   "execution_count": 10,
   "id": "9c55a61c",
   "metadata": {},
   "outputs": [
    {
     "data": {
      "text/plain": [
       "<tf.Tensor: shape=(3, 3), dtype=int32, numpy=\n",
       "array([[0, 0, 0],\n",
       "       [0, 0, 0],\n",
       "       [0, 0, 0]])>"
      ]
     },
     "execution_count": 10,
     "metadata": {},
     "output_type": "execute_result"
    }
   ],
   "source": [
    "var_zeros=tf.zeros_like(var)\n",
    "var_zeros"
   ]
  },
  {
   "cell_type": "code",
   "execution_count": 11,
   "id": "a68971bf",
   "metadata": {},
   "outputs": [
    {
     "data": {
      "text/plain": [
       "<tf.Variable 'Variable:0' shape=(2, 3) dtype=int32, numpy=\n",
       "array([[1, 2, 3],\n",
       "       [4, 5, 6]])>"
      ]
     },
     "execution_count": 11,
     "metadata": {},
     "output_type": "execute_result"
    }
   ],
   "source": [
    "var_2d=tf.Variable([[1,2,3],[4,5,6]])\n",
    "var_2d"
   ]
  },
  {
   "cell_type": "code",
   "execution_count": 16,
   "id": "e2b15719",
   "metadata": {},
   "outputs": [
    {
     "data": {
      "text/plain": [
       "<tf.Tensor: shape=(2, 3), dtype=bool, numpy=\n",
       "array([[False, False, False],\n",
       "       [False, False, False]])>"
      ]
     },
     "execution_count": 16,
     "metadata": {},
     "output_type": "execute_result"
    }
   ],
   "source": [
    "var_2d_like=tf.zeros_like(var_2d,dtype=tf.bool)\n",
    "var_2d_like"
   ]
  },
  {
   "cell_type": "markdown",
   "id": "e004a372",
   "metadata": {},
   "source": [
    "## zeros initilizar"
   ]
  },
  {
   "cell_type": "code",
   "execution_count": 17,
   "id": "8347dc70",
   "metadata": {},
   "outputs": [],
   "source": [
    "def zero_init(shape,dtype,initializer):\n",
    "    return tf.Variable(initializer(shape=shape,dtype=dtype))"
   ]
  },
  {
   "cell_type": "code",
   "execution_count": 18,
   "id": "38654718",
   "metadata": {},
   "outputs": [
    {
     "data": {
      "text/plain": [
       "<tf.Variable 'Variable:0' shape=(2, 2) dtype=float32, numpy=\n",
       "array([[0., 0.],\n",
       "       [0., 0.]], dtype=float32)>"
      ]
     },
     "execution_count": 18,
     "metadata": {},
     "output_type": "execute_result"
    }
   ],
   "source": [
    "zero_init((2,2),tf.float32,tf.zeros_initializer())"
   ]
  },
  {
   "cell_type": "code",
   "execution_count": 20,
   "id": "62cacc1c",
   "metadata": {},
   "outputs": [
    {
     "data": {
      "text/plain": [
       "<tf.Variable 'Variable:0' shape=(2, 2, 7) dtype=bool, numpy=\n",
       "array([[[False, False, False, False, False, False, False],\n",
       "        [False, False, False, False, False, False, False]],\n",
       "\n",
       "       [[False, False, False, False, False, False, False],\n",
       "        [False, False, False, False, False, False, False]]])>"
      ]
     },
     "execution_count": 20,
     "metadata": {},
     "output_type": "execute_result"
    }
   ],
   "source": [
    "zero_init((2,2,7),tf.bool,tf.zeros_initializer())"
   ]
  },
  {
   "cell_type": "code",
   "execution_count": 21,
   "id": "564c5f93",
   "metadata": {},
   "outputs": [
    {
     "data": {
      "text/plain": [
       "<tf.Variable 'Variable:0' shape=(2, 2) dtype=int32, numpy=\n",
       "array([[0, 0],\n",
       "       [0, 0]])>"
      ]
     },
     "execution_count": 21,
     "metadata": {},
     "output_type": "execute_result"
    }
   ],
   "source": [
    "tf.Variable(tf.zeros_initializer()((2,2),tf.int32))"
   ]
  },
  {
   "cell_type": "code",
   "execution_count": null,
   "id": "4ade081f",
   "metadata": {},
   "outputs": [],
   "source": []
  }
 ],
 "metadata": {
  "kernelspec": {
   "display_name": "Python 3 (ipykernel)",
   "language": "python",
   "name": "python3"
  },
  "language_info": {
   "codemirror_mode": {
    "name": "ipython",
    "version": 3
   },
   "file_extension": ".py",
   "mimetype": "text/x-python",
   "name": "python",
   "nbconvert_exporter": "python",
   "pygments_lexer": "ipython3",
   "version": "3.10.5"
  }
 },
 "nbformat": 4,
 "nbformat_minor": 5
}

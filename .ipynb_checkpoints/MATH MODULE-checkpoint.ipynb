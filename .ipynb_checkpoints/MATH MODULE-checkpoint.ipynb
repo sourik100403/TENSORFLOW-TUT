{
 "cells": [
  {
   "cell_type": "markdown",
   "id": "e7903841",
   "metadata": {},
   "source": [
    "## ADDITION METHOD"
   ]
  },
  {
   "cell_type": "code",
   "execution_count": 1,
   "id": "70095d39",
   "metadata": {},
   "outputs": [],
   "source": [
    "import tensorflow as tf\n",
    "import numpy as np"
   ]
  },
  {
   "cell_type": "markdown",
   "id": "3220a290",
   "metadata": {},
   "source": [
    "## add scaler"
   ]
  },
  {
   "cell_type": "code",
   "execution_count": 2,
   "id": "b56c8b66",
   "metadata": {},
   "outputs": [
    {
     "data": {
      "text/plain": [
       "<tf.Tensor: shape=(), dtype=int32, numpy=110>"
      ]
     },
     "execution_count": 2,
     "metadata": {},
     "output_type": "execute_result"
    }
   ],
   "source": [
    "a=10\n",
    "b=100\n",
    "tf.add(a,b)"
   ]
  },
  {
   "cell_type": "markdown",
   "id": "51703c31",
   "metadata": {},
   "source": [
    "## add 2 list"
   ]
  },
  {
   "cell_type": "code",
   "execution_count": 3,
   "id": "4eae4041",
   "metadata": {},
   "outputs": [
    {
     "data": {
      "text/plain": [
       "<tf.Tensor: shape=(4,), dtype=int32, numpy=array([ 6,  8, 10, 12])>"
      ]
     },
     "execution_count": 3,
     "metadata": {},
     "output_type": "execute_result"
    }
   ],
   "source": [
    "a=[1,2,3,4]\n",
    "b=[5,6,7,8]\n",
    "tf.add(a,b)"
   ]
  },
  {
   "cell_type": "markdown",
   "id": "4fdc5b4d",
   "metadata": {},
   "source": [
    "## add 2 tuple"
   ]
  },
  {
   "cell_type": "code",
   "execution_count": 4,
   "id": "fa1d88a2",
   "metadata": {},
   "outputs": [
    {
     "data": {
      "text/plain": [
       "<tf.Tensor: shape=(5,), dtype=int32, numpy=array([11, 13, 15, 17, 19])>"
      ]
     },
     "execution_count": 4,
     "metadata": {},
     "output_type": "execute_result"
    }
   ],
   "source": [
    "a=(1,2,3,4,5)\n",
    "b=(10,11,12,13,14)\n",
    "tf.add(a,b)"
   ]
  },
  {
   "cell_type": "markdown",
   "id": "2b01c842",
   "metadata": {},
   "source": [
    "## add list tupple with scaler"
   ]
  },
  {
   "cell_type": "code",
   "execution_count": 5,
   "id": "3cd53686",
   "metadata": {},
   "outputs": [
    {
     "data": {
      "text/plain": [
       "<tf.Tensor: shape=(5,), dtype=int32, numpy=array([101, 112, 113, 114, 116])>"
      ]
     },
     "execution_count": 5,
     "metadata": {},
     "output_type": "execute_result"
    }
   ],
   "source": [
    "a=[1,12,13,14,16]\n",
    "b=100\n",
    "tf.add(a,b)"
   ]
  },
  {
   "cell_type": "code",
   "execution_count": 6,
   "id": "d8e11e91",
   "metadata": {},
   "outputs": [
    {
     "data": {
      "text/plain": [
       "<tf.Tensor: shape=(5,), dtype=int32, numpy=array([200, 300, 400, 500, 600])>"
      ]
     },
     "execution_count": 6,
     "metadata": {},
     "output_type": "execute_result"
    }
   ],
   "source": [
    "a=100\n",
    "b=(100,200,300,400,500)\n",
    "tf.add(a,b)"
   ]
  },
  {
   "cell_type": "markdown",
   "id": "f837b71c",
   "metadata": {},
   "source": [
    "## add list/tupple in different size"
   ]
  },
  {
   "cell_type": "code",
   "execution_count": 7,
   "id": "575b1cb4",
   "metadata": {},
   "outputs": [
    {
     "ename": "InvalidArgumentError",
     "evalue": "{{function_node __wrapped__AddV2_device_/job:localhost/replica:0/task:0/device:CPU:0}} Incompatible shapes: [4] vs. [2] [Op:AddV2]",
     "output_type": "error",
     "traceback": [
      "\u001b[1;31m---------------------------------------------------------------------------\u001b[0m",
      "\u001b[1;31mInvalidArgumentError\u001b[0m                      Traceback (most recent call last)",
      "Cell \u001b[1;32mIn[7], line 3\u001b[0m\n\u001b[0;32m      1\u001b[0m li1\u001b[38;5;241m=\u001b[39m[\u001b[38;5;241m1\u001b[39m,\u001b[38;5;241m2\u001b[39m,\u001b[38;5;241m3\u001b[39m,\u001b[38;5;241m4\u001b[39m]\n\u001b[0;32m      2\u001b[0m li2\u001b[38;5;241m=\u001b[39m[\u001b[38;5;241m1\u001b[39m,\u001b[38;5;241m2\u001b[39m]\n\u001b[1;32m----> 3\u001b[0m \u001b[43mtf\u001b[49m\u001b[38;5;241;43m.\u001b[39;49m\u001b[43madd\u001b[49m\u001b[43m(\u001b[49m\u001b[43mli1\u001b[49m\u001b[43m,\u001b[49m\u001b[43mli2\u001b[49m\u001b[43m)\u001b[49m\n",
      "File \u001b[1;32mC:\\Python310\\lib\\site-packages\\tensorflow\\python\\util\\traceback_utils.py:153\u001b[0m, in \u001b[0;36mfilter_traceback.<locals>.error_handler\u001b[1;34m(*args, **kwargs)\u001b[0m\n\u001b[0;32m    151\u001b[0m \u001b[38;5;28;01mexcept\u001b[39;00m \u001b[38;5;167;01mException\u001b[39;00m \u001b[38;5;28;01mas\u001b[39;00m e:\n\u001b[0;32m    152\u001b[0m   filtered_tb \u001b[38;5;241m=\u001b[39m _process_traceback_frames(e\u001b[38;5;241m.\u001b[39m__traceback__)\n\u001b[1;32m--> 153\u001b[0m   \u001b[38;5;28;01mraise\u001b[39;00m e\u001b[38;5;241m.\u001b[39mwith_traceback(filtered_tb) \u001b[38;5;28;01mfrom\u001b[39;00m \u001b[38;5;28;01mNone\u001b[39;00m\n\u001b[0;32m    154\u001b[0m \u001b[38;5;28;01mfinally\u001b[39;00m:\n\u001b[0;32m    155\u001b[0m   \u001b[38;5;28;01mdel\u001b[39;00m filtered_tb\n",
      "File \u001b[1;32mC:\\Python310\\lib\\site-packages\\tensorflow\\python\\framework\\ops.py:7262\u001b[0m, in \u001b[0;36mraise_from_not_ok_status\u001b[1;34m(e, name)\u001b[0m\n\u001b[0;32m   7260\u001b[0m \u001b[38;5;28;01mdef\u001b[39;00m \u001b[38;5;21mraise_from_not_ok_status\u001b[39m(e, name):\n\u001b[0;32m   7261\u001b[0m   e\u001b[38;5;241m.\u001b[39mmessage \u001b[38;5;241m+\u001b[39m\u001b[38;5;241m=\u001b[39m (\u001b[38;5;124m\"\u001b[39m\u001b[38;5;124m name: \u001b[39m\u001b[38;5;124m\"\u001b[39m \u001b[38;5;241m+\u001b[39m name \u001b[38;5;28;01mif\u001b[39;00m name \u001b[38;5;129;01mis\u001b[39;00m \u001b[38;5;129;01mnot\u001b[39;00m \u001b[38;5;28;01mNone\u001b[39;00m \u001b[38;5;28;01melse\u001b[39;00m \u001b[38;5;124m\"\u001b[39m\u001b[38;5;124m\"\u001b[39m)\n\u001b[1;32m-> 7262\u001b[0m   \u001b[38;5;28;01mraise\u001b[39;00m core\u001b[38;5;241m.\u001b[39m_status_to_exception(e) \u001b[38;5;28;01mfrom\u001b[39;00m \u001b[38;5;28;01mNone\u001b[39;00m\n",
      "\u001b[1;31mInvalidArgumentError\u001b[0m: {{function_node __wrapped__AddV2_device_/job:localhost/replica:0/task:0/device:CPU:0}} Incompatible shapes: [4] vs. [2] [Op:AddV2]"
     ]
    }
   ],
   "source": [
    "li1=[1,2,3,4]\n",
    "li2=[1,2]\n",
    "tf.add(li1,li2)"
   ]
  },
  {
   "cell_type": "markdown",
   "id": "dc3738ef",
   "metadata": {},
   "source": [
    "## add numpy array"
   ]
  },
  {
   "cell_type": "code",
   "execution_count": 8,
   "id": "ef9021ef",
   "metadata": {},
   "outputs": [
    {
     "data": {
      "text/plain": [
       "<tf.Tensor: shape=(3,), dtype=int32, numpy=array([2, 4, 6])>"
      ]
     },
     "execution_count": 8,
     "metadata": {},
     "output_type": "execute_result"
    }
   ],
   "source": [
    "npa1=np.array([1,2,3])\n",
    "npa2=np.array([1,2,3])\n",
    "tf.add(npa1,npa2)"
   ]
  },
  {
   "cell_type": "markdown",
   "id": "8f543b52",
   "metadata": {},
   "source": [
    "## add numpy array with scaler"
   ]
  },
  {
   "cell_type": "code",
   "execution_count": 9,
   "id": "4fe5dd00",
   "metadata": {},
   "outputs": [
    {
     "data": {
      "text/plain": [
       "<tf.Tensor: shape=(3,), dtype=int32, numpy=array([11, 12, 13])>"
      ]
     },
     "execution_count": 9,
     "metadata": {},
     "output_type": "execute_result"
    }
   ],
   "source": [
    "npa3=np.array([1,2,3])\n",
    "npa4=10\n",
    "tf.add(npa3,npa4)"
   ]
  },
  {
   "cell_type": "code",
   "execution_count": 11,
   "id": "6261ae8c",
   "metadata": {},
   "outputs": [
    {
     "data": {
      "text/plain": [
       "<tf.Tensor: shape=(1, 3), dtype=int32, numpy=array([[2, 3, 4]])>"
      ]
     },
     "execution_count": 11,
     "metadata": {},
     "output_type": "execute_result"
    }
   ],
   "source": [
    "npa1=np.array([1,2,3])\n",
    "npa2=np.array([[1]])\n",
    "tf.add(npa1,npa2)"
   ]
  },
  {
   "cell_type": "markdown",
   "id": "f38c4a22",
   "metadata": {},
   "source": [
    "## add two constant tensor"
   ]
  },
  {
   "cell_type": "code",
   "execution_count": 12,
   "id": "8d001bf5",
   "metadata": {},
   "outputs": [
    {
     "data": {
      "text/plain": [
       "<tf.Tensor: shape=(4,), dtype=float32, numpy=array([2., 4., 6., 8.], dtype=float32)>"
      ]
     },
     "execution_count": 12,
     "metadata": {},
     "output_type": "execute_result"
    }
   ],
   "source": [
    "con1=tf.constant([1,2,3,4],tf.float32)\n",
    "con2=tf.constant([1,2,3,4],tf.float32)\n",
    "tf.add(con1,con2)"
   ]
  },
  {
   "cell_type": "markdown",
   "id": "daa5caad",
   "metadata": {},
   "source": [
    "## add constant and scaler"
   ]
  },
  {
   "cell_type": "code",
   "execution_count": 13,
   "id": "88b7c3a1",
   "metadata": {},
   "outputs": [
    {
     "data": {
      "text/plain": [
       "<tf.Tensor: shape=(4,), dtype=float32, numpy=array([11., 12., 13., 14.], dtype=float32)>"
      ]
     },
     "execution_count": 13,
     "metadata": {},
     "output_type": "execute_result"
    }
   ],
   "source": [
    "con1=tf.constant([1,2,3,4],tf.float32)\n",
    "con2=10\n",
    "tf.add(con1,con2)"
   ]
  },
  {
   "cell_type": "markdown",
   "id": "6568f75e",
   "metadata": {},
   "source": [
    "## add variable tf"
   ]
  },
  {
   "cell_type": "code",
   "execution_count": 16,
   "id": "dcce36c3",
   "metadata": {},
   "outputs": [
    {
     "data": {
      "text/plain": [
       "<tf.Tensor: shape=(4,), dtype=int32, numpy=array([3, 5, 8, 9])>"
      ]
     },
     "execution_count": 16,
     "metadata": {},
     "output_type": "execute_result"
    }
   ],
   "source": [
    "var1=tf.Variable([1,2,3,4])\n",
    "var2=tf.Variable([2,3,5,5])\n",
    "tf.add(var1,var2)"
   ]
  },
  {
   "cell_type": "markdown",
   "id": "bd88ef8b",
   "metadata": {},
   "source": [
    "## variable with scaler"
   ]
  },
  {
   "cell_type": "code",
   "execution_count": 17,
   "id": "1ae8c4a5",
   "metadata": {},
   "outputs": [
    {
     "data": {
      "text/plain": [
       "<tf.Tensor: shape=(4,), dtype=int32, numpy=array([101, 102, 103, 104])>"
      ]
     },
     "execution_count": 17,
     "metadata": {},
     "output_type": "execute_result"
    }
   ],
   "source": [
    "var1=tf.Variable([1,2,3,4])\n",
    "var2=100\n",
    "tf.add(var1,var2)"
   ]
  },
  {
   "cell_type": "markdown",
   "id": "0527859f",
   "metadata": {},
   "source": [
    "## add two number different size"
   ]
  },
  {
   "cell_type": "code",
   "execution_count": 20,
   "id": "66795ede",
   "metadata": {},
   "outputs": [
    {
     "data": {
      "text/plain": [
       "array([[[[1., 1., 1.]],\n",
       "\n",
       "        [[1., 1., 1.]]]])"
      ]
     },
     "execution_count": 20,
     "metadata": {},
     "output_type": "execute_result"
    }
   ],
   "source": [
    "z=np.ones(6).reshape(1,2,1,3)\n",
    "z"
   ]
  },
  {
   "cell_type": "code",
   "execution_count": 22,
   "id": "1eabb6b1",
   "metadata": {},
   "outputs": [
    {
     "data": {
      "text/plain": [
       "array([[[[1.],\n",
       "         [1.],\n",
       "         [1.]]],\n",
       "\n",
       "\n",
       "       [[[1.],\n",
       "         [1.],\n",
       "         [1.]]]])"
      ]
     },
     "execution_count": 22,
     "metadata": {},
     "output_type": "execute_result"
    }
   ],
   "source": [
    "y=np.ones(6).reshape(2,1,3,1)\n",
    "y"
   ]
  },
  {
   "cell_type": "code",
   "execution_count": 25,
   "id": "67ba099c",
   "metadata": {},
   "outputs": [
    {
     "data": {
      "text/plain": [
       "<tf.Tensor: shape=(2, 2, 3, 3), dtype=float64, numpy=\n",
       "array([[[[2., 2., 2.],\n",
       "         [2., 2., 2.],\n",
       "         [2., 2., 2.]],\n",
       "\n",
       "        [[2., 2., 2.],\n",
       "         [2., 2., 2.],\n",
       "         [2., 2., 2.]]],\n",
       "\n",
       "\n",
       "       [[[2., 2., 2.],\n",
       "         [2., 2., 2.],\n",
       "         [2., 2., 2.]],\n",
       "\n",
       "        [[2., 2., 2.],\n",
       "         [2., 2., 2.],\n",
       "         [2., 2., 2.]]]])>"
      ]
     },
     "execution_count": 25,
     "metadata": {},
     "output_type": "execute_result"
    }
   ],
   "source": [
    "tf.add(z,y)"
   ]
  },
  {
   "cell_type": "code",
   "execution_count": 24,
   "id": "a94f855a",
   "metadata": {},
   "outputs": [
    {
     "data": {
      "text/plain": [
       "<bound method TensorShape.as_list of TensorShape([2, 2, 3, 3])>"
      ]
     },
     "execution_count": 24,
     "metadata": {},
     "output_type": "execute_result"
    }
   ],
   "source": [
    "tf.add(z,y).shape.as_list"
   ]
  },
  {
   "cell_type": "code",
   "execution_count": null,
   "id": "528874b7",
   "metadata": {},
   "outputs": [],
   "source": []
  }
 ],
 "metadata": {
  "kernelspec": {
   "display_name": "Python 3 (ipykernel)",
   "language": "python",
   "name": "python3"
  },
  "language_info": {
   "codemirror_mode": {
    "name": "ipython",
    "version": 3
   },
   "file_extension": ".py",
   "mimetype": "text/x-python",
   "name": "python",
   "nbconvert_exporter": "python",
   "pygments_lexer": "ipython3",
   "version": "3.10.5"
  }
 },
 "nbformat": 4,
 "nbformat_minor": 5
}

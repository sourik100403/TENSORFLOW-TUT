{
 "cells": [
  {
   "cell_type": "code",
   "execution_count": 1,
   "id": "5b172069",
   "metadata": {},
   "outputs": [],
   "source": [
    "import tensorflow as tf\n",
    "import numpy as np"
   ]
  },
  {
   "cell_type": "markdown",
   "id": "15be2c55",
   "metadata": {},
   "source": [
    "## multiply scaler"
   ]
  },
  {
   "cell_type": "code",
   "execution_count": 3,
   "id": "9d131632",
   "metadata": {},
   "outputs": [
    {
     "data": {
      "text/plain": [
       "<tf.Tensor: shape=(), dtype=int32, numpy=1000>"
      ]
     },
     "execution_count": 3,
     "metadata": {},
     "output_type": "execute_result"
    }
   ],
   "source": [
    "a=100\n",
    "b=10\n",
    "\n",
    "tf.multiply(a,b)"
   ]
  },
  {
   "cell_type": "markdown",
   "id": "6e3a4f2b",
   "metadata": {},
   "source": [
    "## multiply two list"
   ]
  },
  {
   "cell_type": "code",
   "execution_count": 4,
   "id": "4e93c751",
   "metadata": {},
   "outputs": [
    {
     "data": {
      "text/plain": [
       "<tf.Tensor: shape=(4,), dtype=int32, numpy=array([ 5, 12, 21, 32])>"
      ]
     },
     "execution_count": 4,
     "metadata": {},
     "output_type": "execute_result"
    }
   ],
   "source": [
    "a=[1,2,3,4]\n",
    "b=[5,6,7,8]\n",
    "tf.multiply(a,b)"
   ]
  },
  {
   "cell_type": "markdown",
   "id": "408f0f57",
   "metadata": {},
   "source": [
    "## two tuple"
   ]
  },
  {
   "cell_type": "code",
   "execution_count": 5,
   "id": "83abdb17",
   "metadata": {},
   "outputs": [
    {
     "data": {
      "text/plain": [
       "<tf.Tensor: shape=(5,), dtype=int32, numpy=array([10, 22, 36, 52, 70])>"
      ]
     },
     "execution_count": 5,
     "metadata": {},
     "output_type": "execute_result"
    }
   ],
   "source": [
    "a=(1,2,3,4,5)\n",
    "b=(10,11,12,13,14)\n",
    "tf.multiply(a,b)"
   ]
  },
  {
   "cell_type": "markdown",
   "id": "960705e1",
   "metadata": {},
   "source": [
    "## multiply tuple or scaler"
   ]
  },
  {
   "cell_type": "code",
   "execution_count": 6,
   "id": "ebb9b6f9",
   "metadata": {},
   "outputs": [
    {
     "data": {
      "text/plain": [
       "<tf.Tensor: shape=(5,), dtype=int32, numpy=array([ 100, 1200, 1300, 1400, 1600])>"
      ]
     },
     "execution_count": 6,
     "metadata": {},
     "output_type": "execute_result"
    }
   ],
   "source": [
    "a=[1,12,13,14,16]\n",
    "b=100\n",
    "tf.multiply(a,b)"
   ]
  },
  {
   "cell_type": "markdown",
   "id": "529aa178",
   "metadata": {},
   "source": [
    "## different size"
   ]
  },
  {
   "cell_type": "code",
   "execution_count": 7,
   "id": "598008c1",
   "metadata": {},
   "outputs": [
    {
     "ename": "InvalidArgumentError",
     "evalue": "{{function_node __wrapped__Mul_device_/job:localhost/replica:0/task:0/device:CPU:0}} Incompatible shapes: [4] vs. [2] [Op:Mul]",
     "output_type": "error",
     "traceback": [
      "\u001b[1;31m---------------------------------------------------------------------------\u001b[0m",
      "\u001b[1;31mInvalidArgumentError\u001b[0m                      Traceback (most recent call last)",
      "Cell \u001b[1;32mIn[7], line 3\u001b[0m\n\u001b[0;32m      1\u001b[0m li1\u001b[38;5;241m=\u001b[39m[\u001b[38;5;241m1\u001b[39m,\u001b[38;5;241m2\u001b[39m,\u001b[38;5;241m3\u001b[39m,\u001b[38;5;241m4\u001b[39m]\n\u001b[0;32m      2\u001b[0m li2\u001b[38;5;241m=\u001b[39m[\u001b[38;5;241m1\u001b[39m,\u001b[38;5;241m2\u001b[39m]\n\u001b[1;32m----> 3\u001b[0m \u001b[43mtf\u001b[49m\u001b[38;5;241;43m.\u001b[39;49m\u001b[43mmultiply\u001b[49m\u001b[43m(\u001b[49m\u001b[43mli1\u001b[49m\u001b[43m,\u001b[49m\u001b[43mli2\u001b[49m\u001b[43m)\u001b[49m\n",
      "File \u001b[1;32mC:\\Python310\\lib\\site-packages\\tensorflow\\python\\util\\traceback_utils.py:153\u001b[0m, in \u001b[0;36mfilter_traceback.<locals>.error_handler\u001b[1;34m(*args, **kwargs)\u001b[0m\n\u001b[0;32m    151\u001b[0m \u001b[38;5;28;01mexcept\u001b[39;00m \u001b[38;5;167;01mException\u001b[39;00m \u001b[38;5;28;01mas\u001b[39;00m e:\n\u001b[0;32m    152\u001b[0m   filtered_tb \u001b[38;5;241m=\u001b[39m _process_traceback_frames(e\u001b[38;5;241m.\u001b[39m__traceback__)\n\u001b[1;32m--> 153\u001b[0m   \u001b[38;5;28;01mraise\u001b[39;00m e\u001b[38;5;241m.\u001b[39mwith_traceback(filtered_tb) \u001b[38;5;28;01mfrom\u001b[39;00m \u001b[38;5;28;01mNone\u001b[39;00m\n\u001b[0;32m    154\u001b[0m \u001b[38;5;28;01mfinally\u001b[39;00m:\n\u001b[0;32m    155\u001b[0m   \u001b[38;5;28;01mdel\u001b[39;00m filtered_tb\n",
      "File \u001b[1;32mC:\\Python310\\lib\\site-packages\\tensorflow\\python\\eager\\execute.py:52\u001b[0m, in \u001b[0;36mquick_execute\u001b[1;34m(op_name, num_outputs, inputs, attrs, ctx, name)\u001b[0m\n\u001b[0;32m     50\u001b[0m \u001b[38;5;28;01mtry\u001b[39;00m:\n\u001b[0;32m     51\u001b[0m   ctx\u001b[38;5;241m.\u001b[39mensure_initialized()\n\u001b[1;32m---> 52\u001b[0m   tensors \u001b[38;5;241m=\u001b[39m pywrap_tfe\u001b[38;5;241m.\u001b[39mTFE_Py_Execute(ctx\u001b[38;5;241m.\u001b[39m_handle, device_name, op_name,\n\u001b[0;32m     53\u001b[0m                                       inputs, attrs, num_outputs)\n\u001b[0;32m     54\u001b[0m \u001b[38;5;28;01mexcept\u001b[39;00m core\u001b[38;5;241m.\u001b[39m_NotOkStatusException \u001b[38;5;28;01mas\u001b[39;00m e:\n\u001b[0;32m     55\u001b[0m   \u001b[38;5;28;01mif\u001b[39;00m name \u001b[38;5;129;01mis\u001b[39;00m \u001b[38;5;129;01mnot\u001b[39;00m \u001b[38;5;28;01mNone\u001b[39;00m:\n",
      "\u001b[1;31mInvalidArgumentError\u001b[0m: {{function_node __wrapped__Mul_device_/job:localhost/replica:0/task:0/device:CPU:0}} Incompatible shapes: [4] vs. [2] [Op:Mul]"
     ]
    }
   ],
   "source": [
    "li1=[1,2,3,4]\n",
    "li2=[1,2]\n",
    "tf.multiply(li1,li2)"
   ]
  },
  {
   "cell_type": "markdown",
   "id": "f61494e6",
   "metadata": {},
   "source": [
    "## multiply two array"
   ]
  },
  {
   "cell_type": "code",
   "execution_count": 8,
   "id": "c87eb49f",
   "metadata": {},
   "outputs": [
    {
     "data": {
      "text/plain": [
       "<tf.Tensor: shape=(3,), dtype=int32, numpy=array([1, 4, 9])>"
      ]
     },
     "execution_count": 8,
     "metadata": {},
     "output_type": "execute_result"
    }
   ],
   "source": [
    "npa1=np.array([1,2,3])\n",
    "npa2=np.array([1,2,3])\n",
    "tf.multiply(npa1,npa2)"
   ]
  },
  {
   "cell_type": "markdown",
   "id": "2e742913",
   "metadata": {},
   "source": [
    "## multipkly constrator"
   ]
  },
  {
   "cell_type": "code",
   "execution_count": 9,
   "id": "fff22881",
   "metadata": {},
   "outputs": [
    {
     "data": {
      "text/plain": [
       "<tf.Tensor: shape=(4,), dtype=float32, numpy=array([ 1.,  4.,  9., 16.], dtype=float32)>"
      ]
     },
     "execution_count": 9,
     "metadata": {},
     "output_type": "execute_result"
    }
   ],
   "source": [
    "con1=tf.constant([1,2,3,4],tf.float32)\n",
    "con2=tf.constant([1,2,3,4],tf.float32)\n",
    "tf.multiply(con1,con2)"
   ]
  },
  {
   "cell_type": "code",
   "execution_count": 10,
   "id": "4448cd23",
   "metadata": {},
   "outputs": [
    {
     "data": {
      "text/plain": [
       "<tf.Tensor: shape=(4,), dtype=int32, numpy=array([ 2,  6, 15, 20])>"
      ]
     },
     "execution_count": 10,
     "metadata": {},
     "output_type": "execute_result"
    }
   ],
   "source": [
    "# variable\n",
    "var1=tf.Variable([1,2,3,4])\n",
    "var2=tf.Variable([2,3,5,5])\n",
    "tf.multiply(var1,var2)"
   ]
  },
  {
   "cell_type": "code",
   "execution_count": null,
   "id": "bf4c27e6",
   "metadata": {},
   "outputs": [],
   "source": []
  }
 ],
 "metadata": {
  "kernelspec": {
   "display_name": "Python 3 (ipykernel)",
   "language": "python",
   "name": "python3"
  },
  "language_info": {
   "codemirror_mode": {
    "name": "ipython",
    "version": 3
   },
   "file_extension": ".py",
   "mimetype": "text/x-python",
   "name": "python",
   "nbconvert_exporter": "python",
   "pygments_lexer": "ipython3",
   "version": "3.10.5"
  }
 },
 "nbformat": 4,
 "nbformat_minor": 5
}
